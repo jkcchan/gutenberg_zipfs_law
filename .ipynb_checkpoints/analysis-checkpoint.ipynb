{
 "cells": [
  {
   "cell_type": "code",
   "execution_count": 56,
   "metadata": {},
   "outputs": [],
   "source": [
    "from gutenberg.acquire import load_etext\n",
    "from gutenberg.cleanup import strip_headers\n",
    "import seaborn as sns\n",
    "from collections import Counter"
   ]
  },
  {
   "cell_type": "code",
   "execution_count": 99,
   "metadata": {},
   "outputs": [],
   "source": [
    "def get_counts_from_many_ids(ids):\n",
    "    counts = None\n",
    "    for i in ids:\n",
    "        if counts is None:\n",
    "            counts = get_counts_from_id(i)\n",
    "        else:\n",
    "            counts = counts + get_counts_from_id(i)\n",
    "    return counts"
   ]
  },
  {
   "cell_type": "code",
   "execution_count": 93,
   "metadata": {},
   "outputs": [],
   "source": [
    "def get_counts_from_id(gutenberg_id, is_chinese = False):\n",
    "    text = strip_headers(load_etext(gutenberg_id)).strip()\n",
    "    if is_chinese:\n",
    "        counts = Counter(list(text))\n",
    "    else:\n",
    "        counts = Counter(text.split())\n",
    "    return counts"
   ]
  },
  {
   "cell_type": "code",
   "execution_count": 96,
   "metadata": {},
   "outputs": [],
   "source": [
    "def plot_counts(counts):\n",
    "    word_arr = counts.most_common(30)\n",
    "    word_arr_encoded = []\n",
    "    word_arr_numbers = []\n",
    "    for k, v in word_arr:\n",
    "        word_arr_encoded.append(k.encode('utf-8').decode('utf-8'))\n",
    "        word_arr_numbers.append(v)\n",
    "    sns.barplot(word_arr_encoded,word_arr_numbers)"
   ]
  },
  {
   "cell_type": "code",
   "execution_count": 100,
   "metadata": {},
   "outputs": [
    {
     "data": {
      "image/png": "[encoded data removed]",
      "text/plain": [
       "<matplotlib.figure.Figure at 0x110decf50>"
      ]
     },
     "metadata": {},
     "output_type": "display_data"
    }
   ],
   "source": [
    "plot_counts(get_counts_from_many_ids([14419,59015]))"
   ]
  }
 ],
 "metadata": {
  "kernelspec": {
   "display_name": "Python 2",
   "language": "python",
   "name": "python2"
  },
  "language_info": {
   "codemirror_mode": {
    "name": "ipython",
    "version": 2
   },
   "file_extension": ".py",
   "mimetype": "text/x-python",
   "name": "python",
   "nbconvert_exporter": "python",
   "pygments_lexer": "ipython2",
   "version": "2.7.14"
  }
 },
 "nbformat": 4,
 "nbformat_minor": 2
}
