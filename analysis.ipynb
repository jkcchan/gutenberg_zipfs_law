{
 "cells": [
  {
   "cell_type": "code",
   "execution_count": 13,
   "metadata": {},
   "outputs": [],
   "source": [
    "from gutenberg.acquire import load_etext\n",
    "from gutenberg.cleanup import strip_headers\n",
    "import seaborn as sns\n",
    "from collections import Counter\n",
    "import random\n",
    "import matplotlib.pyplot as plt\n",
    "\n",
    "%matplotlib inline"
   ]
  },
  {
   "cell_type": "code",
   "execution_count": 14,
   "metadata": {},
   "outputs": [],
   "source": [
    "def split_text_into_half_randomly(text_list):\n",
    "    return partition(text_list,2)"
   ]
  },
  {
   "cell_type": "code",
   "execution_count": 15,
   "metadata": {},
   "outputs": [],
   "source": [
    "def partition(lst, n): \n",
    "    division = len(lst) / float(n) \n",
    "    return [ lst[int(round(division * i)): int(round(division * (i + 1)))] for i in xrange(n) ]"
   ]
  },
  {
   "cell_type": "code",
   "execution_count": 16,
   "metadata": {},
   "outputs": [],
   "source": [
    "def plot_counts(counts_arr):\n",
    "    word_arr_encoded = []\n",
    "    word_arr_numbers = []\n",
    "    for k, v in counts_arr:\n",
    "        word_arr_encoded.append(k.encode('utf-8').decode('utf-8'))\n",
    "        word_arr_numbers.append(v)\n",
    "    plt.figure(figsize=(16, 6))\n",
    "    sns.barplot(word_arr_encoded,word_arr_numbers)"
   ]
  },
  {
   "cell_type": "code",
   "execution_count": 17,
   "metadata": {},
   "outputs": [],
   "source": [
    "def get_text_from_ids(ids):\n",
    "    text = \"\"\n",
    "    for i in ids:\n",
    "        try:\n",
    "            text = text + \" \" + strip_headers(load_etext(int(i))).strip()\n",
    "        except:\n",
    "            print \"error: \"+i\n",
    "            continue\n",
    "    return text"
   ]
  },
  {
   "cell_type": "code",
   "execution_count": 18,
   "metadata": {},
   "outputs": [],
   "source": [
    "def get_order_from_text(text_list):\n",
    "    counts = Counter(text_list)\n",
    "    return counts"
   ]
  },
  {
   "cell_type": "code",
   "execution_count": 19,
   "metadata": {},
   "outputs": [],
   "source": [
    "def get_frequencies_from_text(text_list):\n",
    "    counts = Counter(text_list)\n",
    "    return counts"
   ]
  },
  {
   "cell_type": "code",
   "execution_count": 20,
   "metadata": {},
   "outputs": [],
   "source": [
    "def do_analysis(ids, is_chinese=False, n = 30):\n",
    "    text = get_text_from_ids(ids)\n",
    "    text_list = list(text) if is_chinese else text.split()\n",
    "    random.shuffle(text_list)\n",
    "    split_text_list = split_text_into_half_randomly(text_list)\n",
    "    order = get_order_from_text(split_text_list[0])\n",
    "    frequencies = get_frequencies_from_text(split_text_list[1])\n",
    "    o = order.most_common()\n",
    "    f = frequencies.most_common()\n",
    "    new_list = []\n",
    "    for i in range(0,len(o)):\n",
    "        val = \"\"\n",
    "        for j in range(0,len(f)):\n",
    "            try:\n",
    "                if f[j][0] == o[i][0]: \n",
    "                    val = f[j][1]\n",
    "                    break\n",
    "            except:\n",
    "                print i, j\n",
    "        try:\n",
    "            if val == '':\n",
    "                continue\n",
    "            new_list.append((o[i][0], val))\n",
    "        except:\n",
    "            print i\n",
    "    plot_counts(new_list[0:n])\n",
    "    return new_list"
   ]
  },
  {
   "cell_type": "code",
   "execution_count": 21,
   "metadata": {},
   "outputs": [],
   "source": [
    "import pandas as pd\n",
    "df = pd.read_csv('~/Documents/jacob hw/4B/SYDE 332/332proj/Dataset - Sheet1.csv', header=None)\n",
    "df = df[2:]\n",
    "df.columns = ['child','da','de','el','en','eo','es','fi','fr','hu','it','la','nl','pt','sv','tl','zh']\n",
    "df.reset_index(inplace=True,drop=True)"
   ]
  },
  {
   "cell_type": "code",
   "execution_count": 22,
   "metadata": {},
   "outputs": [],
   "source": [
    "import numpy as np\n",
    "import math"
   ]
  },
  {
   "cell_type": "code",
   "execution_count": 23,
   "metadata": {},
   "outputs": [],
   "source": [
    "def get_column_values(col):\n",
    "    vals = df[col].values \n",
    "    return [x for x in vals if type(x) != float]"
   ]
  },
  {
   "cell_type": "code",
   "execution_count": 24,
   "metadata": {},
   "outputs": [],
   "source": [
    "ids = {}\n",
    "for i in ['da','de','el','en','eo','es','fi','fr','hu','it','la','nl','pt','sv','tl','zh']:\n",
    "     ids[i]=random.sample(get_column_values(i),50)"
   ]
  },
  {
   "cell_type": "code",
   "execution_count": 27,
   "metadata": {},
   "outputs": [],
   "source": [
    "import pickle"
   ]
  },
  {
   "cell_type": "code",
   "execution_count": null,
   "metadata": {},
   "outputs": [
    {
     "name": "stdout",
     "output_type": "stream",
     "text": [
      "da\n",
      "de\n",
      "6615 9437\n"
     ]
    }
   ],
   "source": [
    "results = {}\n",
    "for i in ['da','de','el','en','eo','es','fi','fr','hu','it','la','nl','pt','sv','tl','zh']:\n",
    "    print i\n",
    "    results[i] = do_analysis(ids[i][0:2])\n",
    "    with open('data.pickle', 'wb') as handle:\n",
    "        pickle.dump(results, handle, protocol=pickle.HIGHEST_PROTOCOL)"
   ]
  },
  {
   "cell_type": "code",
   "execution_count": null,
   "metadata": {},
   "outputs": [],
   "source": []
  }
 ],
 "metadata": {
  "kernelspec": {
   "display_name": "Python 2",
   "language": "python",
   "name": "python2"
  },
  "language_info": {
   "codemirror_mode": {
    "name": "ipython",
    "version": 2
   },
   "file_extension": ".py",
   "mimetype": "text/x-python",
   "name": "python",
   "nbconvert_exporter": "python",
   "pygments_lexer": "ipython2",
   "version": "2.7.14"
  }
 },
 "nbformat": 4,
 "nbformat_minor": 2
}
